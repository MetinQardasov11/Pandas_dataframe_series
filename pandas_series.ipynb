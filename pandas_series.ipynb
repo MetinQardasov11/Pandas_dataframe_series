{
 "cells": [
  {
   "cell_type": "code",
   "execution_count": 2,
   "metadata": {},
   "outputs": [
    {
     "data": {
      "text/plain": [
       "0       Metin\n",
       "1    Muhammed\n",
       "2         Isa\n",
       "3        Musa\n",
       "4       Orhan\n",
       "5       Osman\n",
       "6         Ali\n",
       "7        Omer\n",
       "dtype: object"
      ]
     },
     "execution_count": 2,
     "metadata": {},
     "output_type": "execute_result"
    }
   ],
   "source": [
    "# Version 1\n",
    "import pandas as pd\n",
    "list_1 = ['Metin','Muhammed','Isa','Musa','Orhan','Osman','Ali','Omer']\n",
    "data_1 = pd.Series(list_1)\n",
    "data_1"
   ]
  },
  {
   "cell_type": "code",
   "execution_count": 3,
   "metadata": {},
   "outputs": [
    {
     "data": {
      "text/plain": [
       "0       Metin\n",
       "1    Muhammed\n",
       "2         Isa\n",
       "3        Musa\n",
       "4       Orhan\n",
       "5       Osman\n",
       "6         Ali\n",
       "7        Omer\n",
       "dtype: object"
      ]
     },
     "execution_count": 3,
     "metadata": {},
     "output_type": "execute_result"
    }
   ],
   "source": [
    "# Version 2\n",
    "import pandas as pd\n",
    "data_2 = pd.Series(['Metin','Muhammed','Isa','Musa','Orhan','Osman','Ali','Omer'])\n",
    "data_2"
   ]
  },
  {
   "cell_type": "code",
   "execution_count": 4,
   "metadata": {},
   "outputs": [
    {
     "data": {
      "text/plain": [
       "0       Metin\n",
       "1    Muhammed\n",
       "2         Isa\n",
       "3        Musa\n",
       "4       Orhan\n",
       "5       Osman\n",
       "6         Ali\n",
       "7        Omer\n",
       "dtype: object"
      ]
     },
     "execution_count": 4,
     "metadata": {},
     "output_type": "execute_result"
    }
   ],
   "source": [
    "# Version 4\n",
    "import pandas as pd\n",
    "data_3 = pd.Series(data=['Metin','Muhammed','Isa','Musa','Orhan','Osman','Ali','Omer'])\n",
    "data_3"
   ]
  },
  {
   "cell_type": "code",
   "execution_count": 5,
   "metadata": {},
   "outputs": [
    {
     "data": {
      "text/plain": [
       "Name 1       Metin\n",
       "Name 2    Muhammed\n",
       "Name 3         Isa\n",
       "Name 4        Musa\n",
       "Name 5       Orhan\n",
       "Name 6       Osman\n",
       "Name 7         Ali\n",
       "Name 8        Omer\n",
       "dtype: object"
      ]
     },
     "execution_count": 5,
     "metadata": {},
     "output_type": "execute_result"
    }
   ],
   "source": [
    "import pandas as pd\n",
    "data_4 = pd.Series(data=['Metin','Muhammed','Isa','Musa','Orhan','Osman','Ali','Omer'],\n",
    "                   index=['Name 1','Name 2','Name 3','Name 4','Name 5','Name 6','Name 7','Name 8'])\n",
    "data_4"
   ]
  },
  {
   "cell_type": "code",
   "execution_count": 6,
   "metadata": {},
   "outputs": [
    {
     "data": {
      "text/plain": [
       "Ad 1       Metin\n",
       "Ad 2    Muhammed\n",
       "Ad 3         Isa\n",
       "Ad 4        Musa\n",
       "Ad 5       Orhan\n",
       "Ad 6       Osman\n",
       "Ad 7         Ali\n",
       "Ad 8        Omer\n",
       "dtype: object"
      ]
     },
     "execution_count": 6,
     "metadata": {},
     "output_type": "execute_result"
    }
   ],
   "source": [
    "# Version 5\n",
    "import pandas as pd\n",
    "data_list = ['Metin','Muhammed','Isa','Musa','Orhan','Osman','Ali','Omer']\n",
    "index_list = ['Ad 1','Ad 2','Ad 3','Ad 4','Ad 5','Ad 6','Ad 7','Ad 8']\n",
    "data_5 = pd.Series(data=data_list,index=index_list)\n",
    "data_5"
   ]
  },
  {
   "cell_type": "code",
   "execution_count": 7,
   "metadata": {},
   "outputs": [
    {
     "data": {
      "text/plain": [
       "Gen 1      TP53\n",
       "Gen 2       TNF\n",
       "Gen 3      EGFR\n",
       "Gen 4     VEGFA\n",
       "Gen 5      APOE\n",
       "Gen 6       IL6\n",
       "Gen 7     TGFB1\n",
       "Gen 8     MTHFR\n",
       "Gen 9      ESR1\n",
       "Gen 10     AKT1\n",
       "dtype: object"
      ]
     },
     "execution_count": 7,
     "metadata": {},
     "output_type": "execute_result"
    }
   ],
   "source": [
    "import pandas as pd\n",
    "genes_list = ['TP53','TNF','EGFR','VEGFA','APOE','IL6','TGFB1','MTHFR','ESR1','AKT1']\n",
    "top_10_genes = pd.Series(genes_list,\n",
    "                         index=['Gen 1','Gen 2','Gen 3','Gen 4','Gen 5','Gen 6','Gen 7','Gen 8','Gen 9','Gen 10'])\n",
    "top_10_genes"
   ]
  },
  {
   "cell_type": "code",
   "execution_count": 14,
   "metadata": {},
   "outputs": [
    {
     "data": {
      "text/plain": [
       "num 1      100\n",
       "num 2      200\n",
       "num 3      300\n",
       "num 4      400\n",
       "num 5      500\n",
       "num 6      600\n",
       "num 7      700\n",
       "num 8      800\n",
       "num 9      900\n",
       "num 10    1000\n",
       "dtype: object"
      ]
     },
     "execution_count": 14,
     "metadata": {},
     "output_type": "execute_result"
    }
   ],
   "source": [
    "import pandas as pd\n",
    "import numpy as np\n",
    "np_list = np.array(['100','200','300','400','500','600','700','800','900','1000'])\n",
    "data_number = pd.Series(data = np_list,\n",
    "                        index=['num 1','num 2','num 3','num 4','num 5','num 6','num 7','num 8','num 9','num 10'])\n",
    "data_number"
   ]
  },
  {
   "cell_type": "code",
   "execution_count": 9,
   "metadata": {},
   "outputs": [
    {
     "data": {
      "text/plain": [
       "U-1      Asoiu\n",
       "U-2       UNEC\n",
       "U-3        BDU\n",
       "U-4       AzTU\n",
       "U-5     Khazar\n",
       "U-6       BANM\n",
       "U-7        ADA\n",
       "U-8        BMU\n",
       "U-9      AzMIU\n",
       "U-10       ADU\n",
       "dtype: object"
      ]
     },
     "execution_count": 9,
     "metadata": {},
     "output_type": "execute_result"
    }
   ],
   "source": [
    "# Create pandas series using dictionary\n",
    "import pandas as pd\n",
    "\n",
    "data_distionary = {\n",
    "    'U-1' : 'Asoiu',\n",
    "    'U-2' : 'UNEC',\n",
    "    'U-3' : 'BDU',\n",
    "    'U-4' : 'AzTU',\n",
    "    'U-5' : 'Khazar',\n",
    "    'U-6' : 'BANM',\n",
    "    'U-7' : 'ADA',\n",
    "    'U-8' : 'BMU',\n",
    "    'U-9' : 'AzMIU',\n",
    "    'U-10' : 'ADU'\n",
    "}\n",
    "data_6 = pd.Series(data_distionary)\n",
    "data_6"
   ]
  },
  {
   "cell_type": "code",
   "execution_count": 10,
   "metadata": {},
   "outputs": [
    {
     "data": {
      "text/plain": [
       "Name               Metin\n",
       "Surname        Gardashov\n",
       "Date          11/11/2003\n",
       "Age                   20\n",
       "University         ASOIU\n",
       "dtype: object"
      ]
     },
     "execution_count": 10,
     "metadata": {},
     "output_type": "execute_result"
    }
   ],
   "source": [
    "import pandas as pd\n",
    "data_7 = pd.Series(data=['Metin','Gardashov','11/11/2003','20','ASOIU'],\n",
    "                   index=['Name','Surname','Date','Age','University'])\n",
    "data_7"
   ]
  },
  {
   "cell_type": "code",
   "execution_count": 13,
   "metadata": {},
   "outputs": [
    {
     "data": {
      "text/plain": [
       "country-1           Turkey\n",
       "country-2       Azerbaijan\n",
       "country-3              UAE\n",
       "country-4     Saudi Arabia\n",
       "country-5             Iraq\n",
       "country-6            Syria\n",
       "country-7            Yemen\n",
       "country-8            Egypt\n",
       "country-9        Indonesia\n",
       "country-10           Katar\n",
       "dtype: object"
      ]
     },
     "execution_count": 13,
     "metadata": {},
     "output_type": "execute_result"
    }
   ],
   "source": [
    "import pandas as pd\n",
    "data_countries = {\n",
    "    'country-1' : 'Turkey',\n",
    "    'country-2' : 'Azerbaijan',\n",
    "    'country-3' : 'UAE',\n",
    "    'country-4' : 'Saudi Arabia',\n",
    "    'country-5' : 'Iraq',\n",
    "    'country-6' : 'Syria',\n",
    "    'country-7' : 'Yemen',\n",
    "    'country-8' : 'Egypt',\n",
    "    'country-9' : 'Indonesia',\n",
    "    'country-10' : 'Katar',\n",
    "}\n",
    "pandas_countries = pd.Series(data_countries)\n",
    "pandas_countries"
   ]
  },
  {
   "cell_type": "code",
   "execution_count": 23,
   "metadata": {},
   "outputs": [
    {
     "name": "stdout",
     "output_type": "stream",
     "text": [
      "Third Country: UAE\n",
      "Sixth Country: Syria\n",
      "Second Country: Azerbaijan\n",
      "Ninth Country: Indonesia\n"
     ]
    }
   ],
   "source": [
    "import pandas as pd\n",
    "data_pd = pd.Series(data=['Turkey','Azerbaijan','UAE','Saudi Arabia','Iraq','Syria','Yemen','Egypt','Indonesia','Katar'],\n",
    "                    index=['1.','2.','3.','4.','5.','6.','7.','8.','9.','10.'])\n",
    "third_country = data_pd[2]\n",
    "print('Third Country: {}'.format(third_country))\n",
    "sixth_country = data_pd[5]\n",
    "print('Sixth Country: {}'.format(sixth_country))\n",
    "second_country = data_pd['2.']\n",
    "print('Second Country: {}'.format(second_country))\n",
    "ninth_country = data_pd['9.']\n",
    "print('Ninth Country: {}'.format(ninth_country))"
   ]
  },
  {
   "cell_type": "code",
   "execution_count": 27,
   "metadata": {},
   "outputs": [
    {
     "data": {
      "text/plain": [
       "Name 2     Orhan\n",
       "Name 3       Ali\n",
       "Name 4      Musa\n",
       "Name 5       Isa\n",
       "Name 6    Turgut\n",
       "dtype: object"
      ]
     },
     "execution_count": 27,
     "metadata": {},
     "output_type": "execute_result"
    }
   ],
   "source": [
    "import pandas as pd\n",
    "name_series = pd.Series(data=['Osman','Orhan','Ali','Musa','Isa','Turgut','Ertugrul','Melikshah'],\n",
    "                        index=['Name 1','Name 2','Name 3','Name 4','Name 5','Name 6','Name 7','Name 8'])\n",
    "slicing_number_index = name_series[1:6]\n",
    "slicing_number_index"
   ]
  },
  {
   "cell_type": "code",
   "execution_count": 28,
   "metadata": {},
   "outputs": [
    {
     "data": {
      "text/plain": [
       "Name 1       Osman\n",
       "Name 2       Orhan\n",
       "Name 3         Ali\n",
       "Name 4        Musa\n",
       "Name 5         Isa\n",
       "Name 6      Turgut\n",
       "Name 7    Ertugrul\n",
       "dtype: object"
      ]
     },
     "execution_count": 28,
     "metadata": {},
     "output_type": "execute_result"
    }
   ],
   "source": [
    "import pandas as pd\n",
    "name_series = pd.Series(data=['Osman','Orhan','Ali','Musa','Isa','Turgut','Ertugrul','Melikshah'],\n",
    "                        index=['Name 1','Name 2','Name 3','Name 4','Name 5','Name 6','Name 7','Name 8'])\n",
    "\n",
    "slicing_index_name = name_series['Name 1':'Name 7']\n",
    "slicing_index_name"
   ]
  },
  {
   "cell_type": "code",
   "execution_count": 34,
   "metadata": {},
   "outputs": [
    {
     "data": {
      "text/plain": [
       "7    Melikshah\n",
       "6     Ertugrul\n",
       "5       Turgut\n",
       "4          Isa\n",
       "3         Musa\n",
       "dtype: object"
      ]
     },
     "execution_count": 34,
     "metadata": {},
     "output_type": "execute_result"
    }
   ],
   "source": [
    "import pandas as pd\n",
    "name_list = ['Osman','Orhan','Ali','Musa','Isa','Turgut','Ertugrul','Melikshah']\n",
    "name_pd_series = pd.Series(name_list)\n",
    "name_pd_series[-1:-6:-1]"
   ]
  },
  {
   "cell_type": "code",
   "execution_count": 39,
   "metadata": {},
   "outputs": [
    {
     "data": {
      "text/plain": [
       "1. gen    TP53\n",
       "2. gen     TNF\n",
       "3. gen    EGFR\n",
       "dtype: object"
      ]
     },
     "execution_count": 39,
     "metadata": {},
     "output_type": "execute_result"
    }
   ],
   "source": [
    "import pandas as pd\n",
    "top_10_genes_series = pd.Series(data= ['TP53','TNF','EGFR','VEGFA','APOE','IL6','TGFB1','MTHFR','ESR1','AKT1'], \n",
    "            index=['1. gen','2. gen','3. gen','4. gen','5. gen','6. gen','7. gen','8. gen','9. gen','10. gen'])\n",
    "first_3_elements = top_10_genes_series[0:3]\n",
    "first_3_elements\n",
    "# OR\n",
    "first_3_elements_or = top_10_genes_series['1. gen' : '3. gen']\n",
    "first_3_elements_or"
   ]
  },
  {
   "cell_type": "code",
   "execution_count": 45,
   "metadata": {},
   "outputs": [
    {
     "data": {
      "text/plain": [
       "10. gen     AKT1\n",
       "9. gen      ESR1\n",
       "8. gen     MTHFR\n",
       "dtype: object"
      ]
     },
     "execution_count": 45,
     "metadata": {},
     "output_type": "execute_result"
    }
   ],
   "source": [
    "import pandas as pd\n",
    "top_10_genes_series = pd.Series(data= ['TP53','TNF','EGFR','VEGFA','APOE','IL6','TGFB1','MTHFR','ESR1','AKT1'], \n",
    "            index=['1. gen','2. gen','3. gen','4. gen','5. gen','6. gen','7. gen','8. gen','9. gen','10. gen'])\n",
    "last_3_elements = top_10_genes_series[-1:-4:-1]\n",
    "last_3_elements"
   ]
  },
  {
   "cell_type": "code",
   "execution_count": 56,
   "metadata": {},
   "outputs": [
    {
     "data": {
      "text/plain": [
       "index_2      gen_2\n",
       "index_6      gen_6\n",
       "index_10    gen_10\n",
       "dtype: object"
      ]
     },
     "execution_count": 56,
     "metadata": {},
     "output_type": "execute_result"
    }
   ],
   "source": [
    "import pandas as pd\n",
    "pandas_series = pd.Series(data=['gen_1', 'gen_2', 'gen_3', 'gen_4','gen_5','gen_6','gen_7','gen_8','gen_9','gen_10'],\n",
    "        index=['index_1', 'index_2','index_3','index_4','index_5','index_6','index_7','index_8','index_9','index_10'])\n",
    "\n",
    "some_series_using_index_numbers = pandas_series[[1,5,9]]\n",
    "some_series_using_index_numbers"
   ]
  },
  {
   "cell_type": "code",
   "execution_count": 57,
   "metadata": {},
   "outputs": [
    {
     "data": {
      "text/plain": [
       "index_1    gen_1\n",
       "index_4    gen_4\n",
       "index_7    gen_7\n",
       "dtype: object"
      ]
     },
     "execution_count": 57,
     "metadata": {},
     "output_type": "execute_result"
    }
   ],
   "source": [
    "import pandas as pd\n",
    "pandas_series = pd.Series(data=['gen_1', 'gen_2', 'gen_3', 'gen_4','gen_5','gen_6','gen_7','gen_8','gen_9','gen_10'],\n",
    "        index=['index_1', 'index_2','index_3','index_4','index_5','index_6','index_7','index_8','index_9','index_10'])\n",
    "\n",
    "some_series_using_index_name = pandas_series[['index_1','index_4','index_7']]\n",
    "some_series_using_index_name"
   ]
  },
  {
   "cell_type": "code",
   "execution_count": 59,
   "metadata": {},
   "outputs": [
    {
     "data": {
      "text/plain": [
       "index_1         Metin\n",
       "index_2      Muhammed\n",
       "index_3       Ismayil\n",
       "index_4           Isa\n",
       "index_5          Musa\n",
       "index_6          Adem\n",
       "index_7     Alparslan\n",
       "index_8      Ertugrul\n",
       "index_9         Vaqif\n",
       "index_10        Yahya\n",
       "index_11         Omer\n",
       "index_12        Osman\n",
       "dtype: object"
      ]
     },
     "execution_count": 59,
     "metadata": {},
     "output_type": "execute_result"
    }
   ],
   "source": [
    "import pandas as pd\n",
    "name_series = pd.Series(data=['Metin','Muhammed','Ismayil','Isa','Musa','Adem','Alparslan','Ertugrul','Tugrul','Ali','Omer','Osman'],\n",
    "        index=['index_1','index_2','index_3','index_4','index_5','index_6','index_7','index_8','index_9','index_10','index_11','index_12'])\n",
    "\n",
    "name_series[8] = 'Vaqif'\n",
    "name_series['index_10'] = 'Yahya'\n",
    "name_series\n"
   ]
  },
  {
   "cell_type": "code",
   "execution_count": 61,
   "metadata": {},
   "outputs": [
    {
     "data": {
      "text/plain": [
       "index_1      Not name\n",
       "index_2      Not name\n",
       "index_3      Not name\n",
       "index_4           Isa\n",
       "index_5          Musa\n",
       "index_6          Adem\n",
       "index_7     Alparslan\n",
       "index_8     Same name\n",
       "index_9     Same name\n",
       "index_10    Same name\n",
       "index_11    Same name\n",
       "index_12        Osman\n",
       "dtype: object"
      ]
     },
     "execution_count": 61,
     "metadata": {},
     "output_type": "execute_result"
    }
   ],
   "source": [
    "import pandas as pd\n",
    "name_series = pd.Series(data=['Metin','Muhammed','Ismayil','Isa','Musa','Adem','Alparslan','Ertugrul','Tugrul','Ali','Omer','Osman'],\n",
    "        index=['index_1','index_2','index_3','index_4','index_5','index_6','index_7','index_8','index_9','index_10','index_11','index_12'])\n",
    "\n",
    "name_series[0:3] = 'Not name'\n",
    "name_series['index_8':'index_11'] = 'Same name'\n",
    "name_series"
   ]
  },
  {
   "cell_type": "code",
   "execution_count": 69,
   "metadata": {},
   "outputs": [
    {
     "data": {
      "text/plain": [
       "index_1         Metin\n",
       "index_2      Muhammed\n",
       "index_4           Isa\n",
       "index_5          Musa\n",
       "index_6          Adem\n",
       "index_7     Alparslan\n",
       "index_8      Ertugrul\n",
       "index_9        Tugrul\n",
       "index_10          Ali\n",
       "index_11         Omer\n",
       "index_12        Osman\n",
       "dtype: object"
      ]
     },
     "execution_count": 69,
     "metadata": {},
     "output_type": "execute_result"
    }
   ],
   "source": [
    "# .drop() functions\n",
    "import pandas as pd\n",
    "name_series = pd.Series(data=['Metin','Muhammed','Ismayil','Isa','Musa','Adem','Alparslan','Ertugrul','Tugrul','Ali','Omer','Osman'],\n",
    "        index=['index_1','index_2','index_3','index_4','index_5','index_6','index_7','index_8','index_9','index_10','index_11','index_12'])\n",
    "\n",
    "new_name_series = name_series.drop('index_3')\n",
    "new_name_series"
   ]
  },
  {
   "cell_type": "code",
   "execution_count": 71,
   "metadata": {},
   "outputs": [
    {
     "data": {
      "text/plain": [
       "index_2     Muhammed\n",
       "index_3      Ismayil\n",
       "index_5         Musa\n",
       "index_6         Adem\n",
       "index_8     Ertugrul\n",
       "index_9       Tugrul\n",
       "index_10         Ali\n",
       "index_12       Osman\n",
       "dtype: object"
      ]
     },
     "execution_count": 71,
     "metadata": {},
     "output_type": "execute_result"
    }
   ],
   "source": [
    "# .drop([])\n",
    "import pandas as pd\n",
    "name_series = pd.Series(data=['Metin','Muhammed','Ismayil','Isa','Musa','Adem','Alparslan','Ertugrul','Tugrul','Ali','Omer','Osman'],\n",
    "        index=['index_1','index_2','index_3','index_4','index_5','index_6','index_7','index_8','index_9','index_10','index_11','index_12'])\n",
    "\n",
    "new_name_series_2 = name_series.drop(['index_1','index_4','index_7','index_11'])\n",
    "new_name_series_2"
   ]
  },
  {
   "cell_type": "code",
   "execution_count": 75,
   "metadata": {},
   "outputs": [
    {
     "data": {
      "text/plain": [
       "index_4           Isa\n",
       "index_5          Musa\n",
       "index_6          Adem\n",
       "index_7     Alparslan\n",
       "index_8      Ertugrul\n",
       "index_9        Tugrul\n",
       "index_10          Ali\n",
       "index_11         Omer\n",
       "index_12        Osman\n",
       "dtype: object"
      ]
     },
     "execution_count": 75,
     "metadata": {},
     "output_type": "execute_result"
    }
   ],
   "source": [
    "import pandas as pd\n",
    "name_series = pd.Series(data=['Metin','Muhammed','Ismayil','Isa','Musa','Adem','Alparslan','Ertugrul','Tugrul','Ali','Omer','Osman'],\n",
    "        index=['index_1','index_2','index_3','index_4','index_5','index_6','index_7','index_8','index_9','index_10','index_11','index_12'])\n",
    "name_series[0:3] = 'Not name'\n",
    "for index_names in name_series.index:\n",
    "    if name_series[index_names] == 'Not name':\n",
    "        name_series.drop(index_names,inplace=True)\n",
    "name_series"
   ]
  },
  {
   "cell_type": "code",
   "execution_count": 76,
   "metadata": {},
   "outputs": [
    {
     "data": {
      "text/plain": [
       "42968"
      ]
     },
     "execution_count": 76,
     "metadata": {},
     "output_type": "execute_result"
    }
   ],
   "source": [
    "# Sum of the top_citation_count_of_genes\n",
    "import pandas as pd\n",
    "top_10_genes_series = pd.Series(data=['TP53','TNF','EGFR','VEGFA','APOE','IL6','TGFB1','MTHFR','ESR1','AKT1'] , \n",
    "        index=['1. gen','2. gen','3. gen','4. gen','5. gen','6. gen','7. gen','8. gen','9. gen','10. gen'])\n",
    "top_citation_count_of_genes = pd.Series(data=[8479,5314,4583,4059,3977,3930,3715,3256,2864,2791] , \n",
    "        index=['1. gen','2. gen','3. gen','4. gen','5. gen','6. gen','7. gen','8. gen','9. gen','10. gen'])\n",
    "sum_genes = 0\n",
    "for i in top_citation_count_of_genes.index:\n",
    "    sum_genes += top_citation_count_of_genes[i]\n",
    "sum_genes"
   ]
  },
  {
   "cell_type": "code",
   "execution_count": 1,
   "metadata": {},
   "outputs": [
    {
     "data": {
      "text/plain": [
       "1. gen    8479\n",
       "2. gen    5314\n",
       "3. gen    4583\n",
       "4. gen    4059\n",
       "5. gen    3977\n",
       "6. gen    3930\n",
       "7. gen    3715\n",
       "8. gen    3256\n",
       "dtype: int64"
      ]
     },
     "execution_count": 1,
     "metadata": {},
     "output_type": "execute_result"
    }
   ],
   "source": [
    "# Delete top_citation_count_of_genes indexes less than 3000\n",
    "import pandas as pd\n",
    "top_10_genes_series = pd.Series(data=['TP53','TNF','EGFR','VEGFA','APOE','IL6','TGFB1','MTHFR','ESR1','AKT1'] , \n",
    "        index=['1. gen','2. gen','3. gen','4. gen','5. gen','6. gen','7. gen','8. gen','9. gen','10. gen'])\n",
    "top_citation_count_of_genes = pd.Series(data=[8479,5314,4583,4059,3977,3930,3715,3256,2864,2791] , \n",
    "        index=['1. gen','2. gen','3. gen','4. gen','5. gen','6. gen','7. gen','8. gen','9. gen','10. gen'])\n",
    "\n",
    "for i in top_citation_count_of_genes.index:\n",
    "    if top_citation_count_of_genes[i] < 3000:\n",
    "            top_citation_count_of_genes.drop(i,inplace=True)  \n",
    "top_citation_count_of_genes"
   ]
  },
  {
   "cell_type": "code",
   "execution_count": 10,
   "metadata": {},
   "outputs": [
    {
     "data": {
      "text/plain": [
       "'Hello World'"
      ]
     },
     "execution_count": 10,
     "metadata": {},
     "output_type": "execute_result"
    }
   ],
   "source": [
    "txt = \" Hello World \"\n",
    "x = txt.strip()\n",
    "x"
   ]
  },
  {
   "cell_type": "code",
   "execution_count": 11,
   "metadata": {},
   "outputs": [
    {
     "name": "stdout",
     "output_type": "stream",
     "text": [
      "True\n"
     ]
    }
   ],
   "source": [
    "print(bool('abc'))"
   ]
  },
  {
   "cell_type": "code",
   "execution_count": 12,
   "metadata": {},
   "outputs": [
    {
     "name": "stdout",
     "output_type": "stream",
     "text": [
      "cherry\n"
     ]
    }
   ],
   "source": [
    "fruits = [\"apple\", \"banana\", \"cherry\"]\n",
    "print(\n",
    "fruits[-1]\n",
    ")"
   ]
  },
  {
   "cell_type": "code",
   "execution_count": 13,
   "metadata": {},
   "outputs": [
    {
     "name": "stdout",
     "output_type": "stream",
     "text": [
      "Mike\n"
     ]
    }
   ],
   "source": [
    "class Person:\n",
    "  def __init__(self, fname):\n",
    "    self.firstname = fname\n",
    "\n",
    "  def printname(self):\n",
    "    print(self.firstname)\n",
    "\n",
    "class Student(Person):\n",
    "  pass\n",
    "\n",
    "x = Student(\"Mike\")\n",
    "x.printname()"
   ]
  },
  {
   "cell_type": "code",
   "execution_count": null,
   "metadata": {},
   "outputs": [],
   "source": []
  }
 ],
 "metadata": {
  "kernelspec": {
   "display_name": "Python 3",
   "language": "python",
   "name": "python3"
  },
  "language_info": {
   "codemirror_mode": {
    "name": "ipython",
    "version": 3
   },
   "file_extension": ".py",
   "mimetype": "text/x-python",
   "name": "python",
   "nbconvert_exporter": "python",
   "pygments_lexer": "ipython3",
   "version": "3.10.11"
  },
  "orig_nbformat": 4
 },
 "nbformat": 4,
 "nbformat_minor": 2
}
